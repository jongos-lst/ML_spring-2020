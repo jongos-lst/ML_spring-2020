{
  "nbformat": 4,
  "nbformat_minor": 0,
  "metadata": {
    "colab": {
      "name": "「ML2021Spring - HW1.ipynb」的副本",
      "provenance": [],
      "collapsed_sections": [],
      "toc_visible": true
    },
    "kernelspec": {
      "name": "python3",
      "display_name": "Python 3"
    },
    "accelerator": "GPU"
  },
  "cells": [
    {
      "cell_type": "markdown",
      "metadata": {
        "id": "mz0_QVkxCrX3"
      },
      "source": [
        "# **Homework 1: COVID-19 Cases Prediction (Regression)**"
      ]
    },
    {
      "cell_type": "markdown",
      "metadata": {
        "id": "ZeZnPAiwDRWG"
      },
      "source": [
        "Author: Heng-Jui Chang\n",
        "\n",
        "Slides: https://github.com/ga642381/ML2021-Spring/blob/main/HW01/HW01.pdf  \n",
        "Video: TBA\n",
        "\n",
        "Objectives:\n",
        "* Solve a regression problem with deep neural networks (DNN).\n",
        "* Understand basic DNN training tips.\n",
        "* Get familiar with PyTorch.\n",
        "\n",
        "If any questions, please contact the TAs via TA hours, NTU COOL, or email.\n"
      ]
    },
    {
      "cell_type": "markdown",
      "metadata": {
        "id": "Jx3x1nDkG-Uy"
      },
      "source": [
        "# **Download Data**\n",
        "\n",
        "\n",
        "If the Google drive links are dead, you can download data from [kaggle](https://www.kaggle.com/c/ml2021spring-hw1/data), and upload data manually to the workspace."
      ]
    },
    {
      "cell_type": "code",
      "metadata": {
        "colab": {
          "base_uri": "https://localhost:8080/"
        },
        "id": "tMj55YDKG6ch",
        "outputId": "e6d8dc77-7f78-45cd-cba4-64f6f7f98f18"
      },
      "source": [
        "tr_path = 'covid.train.csv'  # path to training data\n",
        "tt_path = 'covid.test.csv'   # path to testing data\n",
        "\n",
        "!gdown --id '19CCyCgJrUxtvgZF53vnctJiOJ23T5mqF' --output covid.train.csv\n",
        "!gdown --id '1CE240jLm2npU-tdz81-oVKEF3T2yfT1O' --output covid.test.csv"
      ],
      "execution_count": null,
      "outputs": [
        {
          "output_type": "stream",
          "text": [
            "Downloading...\n",
            "From: https://drive.google.com/uc?id=19CCyCgJrUxtvgZF53vnctJiOJ23T5mqF\n",
            "To: /content/covid.train.csv\n",
            "100% 2.00M/2.00M [00:00<00:00, 63.7MB/s]\n",
            "Downloading...\n",
            "From: https://drive.google.com/uc?id=1CE240jLm2npU-tdz81-oVKEF3T2yfT1O\n",
            "To: /content/covid.test.csv\n",
            "100% 651k/651k [00:00<00:00, 85.4MB/s]\n"
          ],
          "name": "stdout"
        }
      ]
    },
    {
      "cell_type": "markdown",
      "metadata": {
        "id": "wS_4-77xHk44"
      },
      "source": [
        "# **Import Some Packages**"
      ]
    },
    {
      "cell_type": "code",
      "metadata": {
        "id": "k-onQd4JNA5H"
      },
      "source": [
        "# PyTorch\n",
        "import torch\n",
        "import torch.nn as nn\n",
        "from torch.utils.data import Dataset, DataLoader\n",
        "\n",
        "# For data preprocess\n",
        "import numpy as np\n",
        "import csv\n",
        "import os\n",
        "import math\n",
        "\n",
        "# For plotting\n",
        "import matplotlib.pyplot as plt\n",
        "from matplotlib.pyplot import figure\n",
        "from sklearn.datasets import load_iris\n",
        "from sklearn.linear_model import LogisticRegression\n",
        "\n",
        "myseed = 6669  # set a random seed for reproducibility\n",
        "torch.backends.cudnn.deterministic = True\n",
        "torch.backends.cudnn.benchmark = False\n",
        "np.random.seed(myseed)\n",
        "torch.manual_seed(myseed)\n",
        "if torch.cuda.is_available():\n",
        "    torch.cuda.manual_seed_all(myseed)"
      ],
      "execution_count": null,
      "outputs": []
    },
    {
      "cell_type": "markdown",
      "metadata": {
        "id": "BtE3b6JEH7rw"
      },
      "source": [
        "# **Some Utilities**\n",
        "\n",
        "You do not need to modify this part."
      ]
    },
    {
      "cell_type": "code",
      "metadata": {
        "id": "FWMT3uf1NGQp"
      },
      "source": [
        "def get_device():\n",
        "    ''' Get device (if GPU is available, use GPU) '''\n",
        "    return 'cuda' if torch.cuda.is_available() else 'cpu'\n",
        "\n",
        "def plot_learning_curve(loss_record, title=''):\n",
        "    ''' Plot learning curve of your DNN (train & dev loss) '''\n",
        "    total_steps = len(loss_record['train'])\n",
        "    x_1 = range(total_steps)\n",
        "    x_2 = x_1[::len(loss_record['train']) // len(loss_record['dev'])]\n",
        "    figure(figsize=(6, 4))\n",
        "    plt.plot(x_1, loss_record['train'], c='tab:red', label='train')\n",
        "    plt.plot(x_2, loss_record['dev'], c='tab:cyan', label='dev')\n",
        "    plt.ylim(0.0, 5.)\n",
        "    plt.xlabel('Training steps')\n",
        "    plt.ylabel('MSE loss')\n",
        "    plt.title('Learning curve of {}'.format(title))\n",
        "    plt.legend()\n",
        "    plt.show()\n",
        "\n",
        "\n",
        "def plot_pred(dv_set, model, device, lim=35., preds=None, targets=None):\n",
        "    ''' Plot prediction of your DNN '''\n",
        "    if preds is None or targets is None:\n",
        "        model.eval()\n",
        "        preds, targets = [], []\n",
        "        for x, y in dv_set:\n",
        "            x, y = x.to(device), y.to(device)\n",
        "            with torch.no_grad():\n",
        "                pred = model(x)\n",
        "                preds.append(pred.detach().cpu())\n",
        "                targets.append(y.detach().cpu())\n",
        "        preds = torch.cat(preds, dim=0).numpy()\n",
        "        targets = torch.cat(targets, dim=0).numpy()\n",
        "\n",
        "    figure(figsize=(5, 5))\n",
        "    plt.scatter(targets, preds, c='r', alpha=0.5)\n",
        "    plt.plot([-0.2, lim], [-0.2, lim], c='b')\n",
        "    plt.xlim(-0.2, lim)\n",
        "    plt.ylim(-0.2, lim)\n",
        "    plt.xlabel('ground truth value')\n",
        "    plt.ylabel('predicted value')\n",
        "    plt.title('Ground Truth v.s. Prediction')\n",
        "    plt.show()"
      ],
      "execution_count": null,
      "outputs": []
    },
    {
      "cell_type": "markdown",
      "metadata": {
        "id": "39U_XFX6KOoj"
      },
      "source": [
        "# **Preprocess**\n",
        "\n",
        "We have three kinds of datasets:\n",
        "* `train`: for training\n",
        "* `dev`: for validation\n",
        "* `test`: for testing (w/o target value)"
      ]
    },
    {
      "cell_type": "markdown",
      "metadata": {
        "id": "TQ-MdwpLL7Dt"
      },
      "source": [
        "## **Dataset**\n",
        "\n",
        "The `COVID19Dataset` below does:\n",
        "* read `.csv` files\n",
        "* extract features\n",
        "* split `covid.train.csv` into train/dev sets\n",
        "* normalize features\n",
        "\n",
        "Finishing `TODO` below might make you pass medium baseline."
      ]
    },
    {
      "cell_type": "code",
      "metadata": {
        "id": "0zlpIp9ANJRU"
      },
      "source": [
        "class COVID19Dataset(Dataset):\n",
        "    ''' Dataset for loading and preprocessing the COVID19 dataset '''\n",
        "    def __init__(self,\n",
        "                 path,\n",
        "                 mode='train',\n",
        "                 target_only=False):\n",
        "        self.mode = mode\n",
        "\n",
        "        # Read data into numpy arrays\n",
        "        with open(path, 'r') as fp:\n",
        "            data = list(csv.reader(fp))\n",
        "            data = np.array(data[1:])[:, 1:].astype(float)\n",
        "        \n",
        "        if not target_only:\n",
        "            feats = list(range(93))\n",
        "        else:\n",
        "            # TODO: Using 40 states & 2 tested_positive features (indices = 57 & 75)\n",
        "            # Done\n",
        "            feats = [41, 42, 43, 44, 57, 59, 60, 61, 62, 75, 76, 77, 78, 79]\n",
        "            pass\n",
        "\n",
        "        if mode == 'test':\n",
        "            # Testing data\n",
        "            # data: 893 x 93 (40 states + day 1 (18) + day 2 (18) + day 3 (17))\n",
        "            data = data[:, feats]\n",
        "            self.data = torch.FloatTensor(data)\n",
        "        else:\n",
        "            # Training data (train/dev sets)\n",
        "            # data: 2700 x 94 (40 states + day 1 (18) + day 2 (18) + day 3 (18))\n",
        "            target = data[:, -1]\n",
        "            data = data[:, feats]\n",
        "            \n",
        "            # Splitting training data into train & dev sets\n",
        "            if mode == 'train':\n",
        "                indices = [i for i in range(len(data)) if i % 10 != 3]\n",
        "            elif mode == 'dev':\n",
        "                indices = [i for i in range(len(data)) if i % 10 == 3]\n",
        "            \n",
        "            # Convert data into PyTorch tensors\n",
        "            self.data = torch.FloatTensor(data[indices])\n",
        "            self.target = torch.FloatTensor(target[indices])\n",
        "\n",
        "        # Normalize features (you may remove this part to see what will happen)\n",
        "        #self.data[:, 40:] = \\\n",
        "        #    (self.data[:, 40:] - self.data[:, 40:].mean(dim=0, keepdim=True)) \\\n",
        "        #    / self.data[:, 40:].std(dim=0, keepdim=True)\n",
        "\n",
        "        self.dim = self.data.shape[1]\n",
        "\n",
        "        print('Finished reading the {} set of COVID19 Dataset ({} samples found, each dim = {})'\n",
        "              .format(mode, len(self.data), self.dim))\n",
        "\n",
        "    def __getitem__(self, index):\n",
        "        # Returns one sample at a time\n",
        "        if self.mode in ['train', 'dev']:\n",
        "            # For training\n",
        "            return self.data[index], self.target[index]\n",
        "        else:\n",
        "            # For testing (no target)\n",
        "            return self.data[index]\n",
        "\n",
        "    def __len__(self):\n",
        "        # Returns the size of the dataset\n",
        "        return len(self.data)"
      ],
      "execution_count": null,
      "outputs": []
    },
    {
      "cell_type": "markdown",
      "metadata": {
        "id": "AlhTlkE7MDo3"
      },
      "source": [
        "## **DataLoader**\n",
        "\n",
        "A `DataLoader` loads data from a given `Dataset` into batches.\n"
      ]
    },
    {
      "cell_type": "code",
      "metadata": {
        "id": "hlhLk5t6MBX3"
      },
      "source": [
        "def prep_dataloader(path, mode, batch_size, n_jobs=0, target_only=False):\n",
        "    ''' Generates a dataset, then is put into a dataloader. '''\n",
        "    dataset = COVID19Dataset(path, mode=mode, target_only=target_only)  # Construct dataset\n",
        "    dataloader = DataLoader(\n",
        "        dataset, batch_size,\n",
        "        shuffle=(mode == 'train'), drop_last=False,\n",
        "        num_workers=n_jobs, pin_memory=True)                            # Construct dataloader\n",
        "    return dataloader"
      ],
      "execution_count": null,
      "outputs": []
    },
    {
      "cell_type": "markdown",
      "metadata": {
        "id": "rQ_SyL8VxAkr"
      },
      "source": [
        ""
      ]
    },
    {
      "cell_type": "markdown",
      "metadata": {
        "id": "sr__yXfaZ36_"
      },
      "source": [
        "## **Dataset**\n",
        "\n",
        "The `COVID19Dataset` below does:\n",
        "* read `.csv` files\n",
        "* extract features\n",
        "* split `covid.train.csv` into train/dev sets\n",
        "* normalize features\n",
        "\n",
        "Finishing `TODO` below might make you pass medium baseline."
      ]
    },
    {
      "cell_type": "markdown",
      "metadata": {
        "id": "SGuycwR0MeQB"
      },
      "source": [
        "# **Deep Neural Network**\n",
        "\n",
        "`NeuralNet` is an `nn.Module` designed for regression.\n",
        "The DNN consists of 2 fully-connected layers with ReLU activation.\n",
        "This module also included a function `cal_loss` for calculating loss.\n"
      ]
    },
    {
      "cell_type": "markdown",
      "metadata": {
        "id": "LxpYJmJiZ2gr"
      },
      "source": [
        "## **Dataset**\n",
        "\n",
        "The `COVID19Dataset` below does:\n",
        "* read `.csv` files\n",
        "* extract features\n",
        "* split `covid.train.csv` into train/dev sets\n",
        "* normalize features\n",
        "\n",
        "Finishing `TODO` below might make you pass medium baseline."
      ]
    },
    {
      "cell_type": "code",
      "metadata": {
        "id": "49-uXYovOAI0"
      },
      "source": [
        "class NeuralNet(nn.Module):\n",
        "    ''' A simple fully-connected deep neural network '''\n",
        "    def __init__(self, input_dim):\n",
        "        super(NeuralNet, self).__init__()\n",
        "        # Define your neural network here\n",
        "        # TODO: How to modify this model to achieve better performance?\n",
        "        alpha = 5 # usually 2 - 10 \n",
        "        #https://stats.stackexchange.com/questions/181/how-to-choose-the-number-of-hidden-layers-and-nodes-in-a-feedforward-neural-netw\n",
        "        hidden_layer_nodes = 10#2700//(alpha * (input_dim + 1))\n",
        "        self.net = nn.Sequential(\n",
        "            nn.Linear(input_dim, hidden_layer_nodes),\n",
        "            nn.SELU(),\n",
        "            #nn.ReLU(),\n",
        "            #nn.ReLU(),\n",
        "            #nn.ReLU(),\n",
        "            #nn.ReLU(),\n",
        "            #nn.ReLU(),\n",
        "            #nn.Sigmoid(),\n",
        "            #nn.Sigmoid(),\n",
        "            nn.Linear(hidden_layer_nodes, 1)\n",
        "        )\n",
        "\n",
        "        # Mean squared error loss\n",
        "        self.criterion = nn.MSELoss(reduction='mean')\n",
        "\n",
        "    def forward(self, x):\n",
        "        ''' Given input of size (batch_size x input_dim), compute output of the network '''\n",
        "        return self.net(x).squeeze(1)\n",
        "\n",
        "    def cal_loss(self, pred, target):\n",
        "        ''' Calculate loss '''\n",
        "        # TODO: you may implement L2 regularization here\n",
        "        device = get_device()\n",
        "        l2_reg = torch.tensor(0.).to(device)\n",
        "        reg_lambda = 4e-4\n",
        "\n",
        "        for para in self.parameters():\n",
        "          l2_reg += torch.norm(para)\n",
        "        \n",
        "        return reg_lambda * l2_reg + self.criterion(pred, target)"
      ],
      "execution_count": null,
      "outputs": []
    },
    {
      "cell_type": "markdown",
      "metadata": {
        "id": "DvFWVjZ5Nvga"
      },
      "source": [
        "# **Train/Dev/Test**"
      ]
    },
    {
      "cell_type": "markdown",
      "metadata": {
        "id": "MAM8QecJOyqn"
      },
      "source": [
        "## **Training**"
      ]
    },
    {
      "cell_type": "code",
      "metadata": {
        "id": "lOqcmYzMO7jB"
      },
      "source": [
        "def train(tr_set, dv_set, model, config, device):\n",
        "    ''' DNN training '''\n",
        "\n",
        "    n_epochs = config['n_epochs']  # Maximum number of epochs\n",
        "\n",
        "    # Setup optimizer\n",
        "    optimizer = getattr(torch.optim, config['optimizer'])(\n",
        "        model.parameters(), **config['optim_hparas'])\n",
        "\n",
        "    min_mse = 1000.\n",
        "    loss_record = {'train': [], 'dev': []}      # for recording training loss\n",
        "    early_stop_cnt = 0\n",
        "    epoch = 0\n",
        "    while epoch < n_epochs:\n",
        "        model.train()                           # set model to training mode\n",
        "        for x, y in tr_set:                     # iterate through the dataloader\n",
        "            optimizer.zero_grad()               # set gradient to zero\n",
        "            x, y = x.to(device), y.to(device)   # move data to device (cpu/cuda)\n",
        "            pred = model(x)                     # forward pass (compute output)\n",
        "            mse_loss = model.cal_loss(pred, y)  # compute loss\n",
        "            mse_loss.backward()                 # compute gradient (backpropagation)\n",
        "            optimizer.step()                    # update model with optimizer\n",
        "            loss_record['train'].append(mse_loss.detach().cpu().item())\n",
        "\n",
        "        # After each epoch, test your model on the validation (development) set.\n",
        "        dev_mse = dev(dv_set, model, device)\n",
        "        if dev_mse < min_mse:\n",
        "            # Save model if your model improved\n",
        "            min_mse = dev_mse\n",
        "            print('Saving model (epoch = {:4d}, loss = {:.4f})'\n",
        "                .format(epoch + 1, min_mse))\n",
        "            torch.save(model.state_dict(), config['save_path'])  # Save model to specified path\n",
        "            early_stop_cnt = 0\n",
        "        else:\n",
        "            early_stop_cnt += 1\n",
        "\n",
        "        epoch += 1\n",
        "        loss_record['dev'].append(dev_mse)\n",
        "        if early_stop_cnt > config['early_stop']:\n",
        "            # Stop training if your model stops improving for \"config['early_stop']\" epochs.\n",
        "            break\n",
        "\n",
        "    print('Finished training after {} epochs'.format(epoch))\n",
        "    return min_mse, loss_record"
      ],
      "execution_count": null,
      "outputs": []
    },
    {
      "cell_type": "markdown",
      "metadata": {
        "id": "0hSd4Bn3O2PL"
      },
      "source": [
        "## **Validation**"
      ]
    },
    {
      "cell_type": "code",
      "metadata": {
        "id": "yrxrD3YsN3U2"
      },
      "source": [
        "def dev(dv_set, model, device):\n",
        "    model.eval()                                # set model to evalutation mode\n",
        "    total_loss = 0\n",
        "    for x, y in dv_set:                         # iterate through the dataloader\n",
        "        x, y = x.to(device), y.to(device)       # move data to device (cpu/cuda)\n",
        "        with torch.no_grad():                   # disable gradient calculation\n",
        "            pred = model(x)                     # forward pass (compute output)\n",
        "            mse_loss = model.cal_loss(pred, y)  # compute loss\n",
        "        total_loss += mse_loss.detach().cpu().item() * len(x)  # accumulate loss\n",
        "    total_loss = total_loss / len(dv_set.dataset)              # compute averaged loss\n",
        "\n",
        "    return total_loss"
      ],
      "execution_count": null,
      "outputs": []
    },
    {
      "cell_type": "markdown",
      "metadata": {
        "id": "g0pdrhQAO41L"
      },
      "source": [
        "## **Testing**"
      ]
    },
    {
      "cell_type": "code",
      "metadata": {
        "id": "aSBMRFlYN5tB"
      },
      "source": [
        "def test(tt_set, model, device):\n",
        "    model.eval()                                # set model to evalutation mode\n",
        "    preds = []\n",
        "    for x in tt_set:                            # iterate through the dataloader\n",
        "        x = x.to(device)                        # move data to device (cpu/cuda)\n",
        "        with torch.no_grad():                   # disable gradient calculation\n",
        "            pred = model(x)                     # forward pass (compute output)\n",
        "            preds.append(pred.detach().cpu())   # collect prediction\n",
        "    preds = torch.cat(preds, dim=0).numpy()     # concatenate all predictions and convert to a numpy array\n",
        "    return preds"
      ],
      "execution_count": null,
      "outputs": []
    },
    {
      "cell_type": "code",
      "metadata": {
        "colab": {
          "base_uri": "https://localhost:8080/"
        },
        "id": "x0yug6p5Geeo",
        "outputId": "03af8334-ba60-4348-e00e-33463f60a321"
      },
      "source": [
        "from google.colab import drive\n",
        "drive.mount('/content/drive')"
      ],
      "execution_count": null,
      "outputs": [
        {
          "output_type": "stream",
          "text": [
            "Drive already mounted at /content/drive; to attempt to forcibly remount, call drive.mount(\"/content/drive\", force_remount=True).\n"
          ],
          "name": "stdout"
        }
      ]
    },
    {
      "cell_type": "markdown",
      "metadata": {
        "id": "SvckkF5dvf0j"
      },
      "source": [
        "# **Setup Hyper-parameters**\n",
        "\n",
        "`config` contains hyper-parameters for training and the path to save your model."
      ]
    },
    {
      "cell_type": "code",
      "metadata": {
        "id": "NPXpdumwPjE7"
      },
      "source": [
        "device = get_device()                 # get the current available device ('cpu' or 'cuda')\n",
        "os.makedirs('models', exist_ok=True)  # The trained model will be saved to ./models/\n",
        "target_only = True                   # TODO: Using 40 states & 2 tested_positive features\n",
        "\n",
        "# TODO: How to tune these hyper-parameters to improve your model's performance?\n",
        "config = {\n",
        "    'n_epochs': 15000,                # maximum number of epochs\n",
        "    'batch_size': 270,               # mini-batch size for dataloader\n",
        "    'optimizer': 'AdamW',              # optimization algorithm (optimizer in torch.optim)\n",
        "    'optim_hparas': {                # hyper-parameters for the optimizer (depends on which optimizer you are using)\n",
        "        'lr': 0.001,                 # learning rate of SGD\n",
        "        'weight_decay': 5e-5              # momentum for SGD\n",
        "    },\n",
        "    'early_stop': 1000,               # early stopping epochs (the number epochs since your model's last improvement)\n",
        "    'save_path': 'models/model.pth'  # your model will be saved here\n",
        "}"
      ],
      "execution_count": null,
      "outputs": []
    },
    {
      "cell_type": "markdown",
      "metadata": {
        "id": "6j1eOV3TOH-j"
      },
      "source": [
        "# **Load data and model**"
      ]
    },
    {
      "cell_type": "code",
      "metadata": {
        "colab": {
          "base_uri": "https://localhost:8080/"
        },
        "id": "eNrYBMmePLKm",
        "outputId": "86b71f2e-cd31-4d67-f33d-4f20695173b0"
      },
      "source": [
        "tr_set = prep_dataloader(tr_path, 'train', config['batch_size'], target_only=target_only)\n",
        "dv_set = prep_dataloader(tr_path, 'dev', config['batch_size'], target_only=target_only)\n",
        "tt_set = prep_dataloader(tt_path, 'test', config['batch_size'], target_only=target_only)"
      ],
      "execution_count": null,
      "outputs": [
        {
          "output_type": "stream",
          "text": [
            "Finished reading the train set of COVID19 Dataset (2430 samples found, each dim = 14)\n",
            "Finished reading the dev set of COVID19 Dataset (270 samples found, each dim = 14)\n",
            "Finished reading the test set of COVID19 Dataset (893 samples found, each dim = 14)\n"
          ],
          "name": "stdout"
        }
      ]
    },
    {
      "cell_type": "code",
      "metadata": {
        "id": "FHylSirLP9oh"
      },
      "source": [
        "model = NeuralNet(tr_set.dataset.dim).to(device)  # Construct model and move to device"
      ],
      "execution_count": null,
      "outputs": []
    },
    {
      "cell_type": "markdown",
      "metadata": {
        "id": "sX2B_zgSOPTJ"
      },
      "source": [
        "# **Start Training!**"
      ]
    },
    {
      "cell_type": "code",
      "metadata": {
        "colab": {
          "base_uri": "https://localhost:8080/"
        },
        "id": "GrEbUxazQAAZ",
        "outputId": "6965dd11-32f6-4ed8-8967-53971b4cde25"
      },
      "source": [
        "model_loss, model_loss_record = train(tr_set, dv_set, model, config, device)"
      ],
      "execution_count": null,
      "outputs": [
        {
          "output_type": "stream",
          "text": [
            "Saving model (epoch =    1, loss = 77.9455)\n",
            "Saving model (epoch =    2, loss = 29.3666)\n",
            "Saving model (epoch =    3, loss = 11.8199)\n",
            "Saving model (epoch =    4, loss = 11.4503)\n",
            "Saving model (epoch =    6, loss = 10.6809)\n",
            "Saving model (epoch =    7, loss = 9.9289)\n",
            "Saving model (epoch =    8, loss = 9.7024)\n",
            "Saving model (epoch =    9, loss = 9.4367)\n",
            "Saving model (epoch =   10, loss = 8.9004)\n",
            "Saving model (epoch =   11, loss = 7.3138)\n",
            "Saving model (epoch =   12, loss = 6.5921)\n",
            "Saving model (epoch =   13, loss = 6.1219)\n",
            "Saving model (epoch =   14, loss = 5.8378)\n",
            "Saving model (epoch =   15, loss = 5.6079)\n",
            "Saving model (epoch =   16, loss = 5.4068)\n",
            "Saving model (epoch =   17, loss = 5.0325)\n",
            "Saving model (epoch =   18, loss = 4.7190)\n",
            "Saving model (epoch =   19, loss = 4.4106)\n",
            "Saving model (epoch =   20, loss = 4.0904)\n",
            "Saving model (epoch =   21, loss = 3.8402)\n",
            "Saving model (epoch =   22, loss = 3.6354)\n",
            "Saving model (epoch =   23, loss = 3.4969)\n",
            "Saving model (epoch =   24, loss = 3.2298)\n",
            "Saving model (epoch =   25, loss = 3.0254)\n",
            "Saving model (epoch =   26, loss = 2.9325)\n",
            "Saving model (epoch =   27, loss = 2.7075)\n",
            "Saving model (epoch =   28, loss = 2.5246)\n",
            "Saving model (epoch =   29, loss = 2.4441)\n",
            "Saving model (epoch =   30, loss = 2.2314)\n",
            "Saving model (epoch =   31, loss = 2.0997)\n",
            "Saving model (epoch =   32, loss = 1.9768)\n",
            "Saving model (epoch =   33, loss = 1.8804)\n",
            "Saving model (epoch =   34, loss = 1.7472)\n",
            "Saving model (epoch =   35, loss = 1.5594)\n",
            "Saving model (epoch =   36, loss = 1.4980)\n",
            "Saving model (epoch =   37, loss = 1.3747)\n",
            "Saving model (epoch =   38, loss = 1.3098)\n",
            "Saving model (epoch =   39, loss = 1.2563)\n",
            "Saving model (epoch =   40, loss = 1.2111)\n",
            "Saving model (epoch =   41, loss = 1.1801)\n",
            "Saving model (epoch =   42, loss = 1.1657)\n",
            "Saving model (epoch =   43, loss = 1.1556)\n",
            "Saving model (epoch =   44, loss = 1.1506)\n",
            "Saving model (epoch =   45, loss = 1.1234)\n",
            "Saving model (epoch =   46, loss = 1.1125)\n",
            "Saving model (epoch =   48, loss = 1.1103)\n",
            "Saving model (epoch =   49, loss = 1.1029)\n",
            "Saving model (epoch =   50, loss = 1.0927)\n",
            "Saving model (epoch =   51, loss = 1.0885)\n",
            "Saving model (epoch =   53, loss = 1.0877)\n",
            "Saving model (epoch =   54, loss = 1.0857)\n",
            "Saving model (epoch =   55, loss = 1.0801)\n",
            "Saving model (epoch =   58, loss = 1.0785)\n",
            "Saving model (epoch =   59, loss = 1.0745)\n",
            "Saving model (epoch =   67, loss = 1.0607)\n",
            "Saving model (epoch =   73, loss = 1.0563)\n",
            "Saving model (epoch =   75, loss = 1.0535)\n",
            "Saving model (epoch =   79, loss = 1.0445)\n",
            "Saving model (epoch =   80, loss = 1.0441)\n",
            "Saving model (epoch =   84, loss = 1.0387)\n",
            "Saving model (epoch =   88, loss = 1.0346)\n",
            "Saving model (epoch =   92, loss = 1.0302)\n",
            "Saving model (epoch =   97, loss = 1.0280)\n",
            "Saving model (epoch =  103, loss = 1.0174)\n",
            "Saving model (epoch =  111, loss = 1.0130)\n",
            "Saving model (epoch =  112, loss = 1.0104)\n",
            "Saving model (epoch =  113, loss = 1.0091)\n",
            "Saving model (epoch =  114, loss = 1.0077)\n",
            "Saving model (epoch =  124, loss = 0.9968)\n",
            "Saving model (epoch =  126, loss = 0.9956)\n",
            "Saving model (epoch =  127, loss = 0.9949)\n",
            "Saving model (epoch =  129, loss = 0.9910)\n",
            "Saving model (epoch =  131, loss = 0.9890)\n",
            "Saving model (epoch =  133, loss = 0.9860)\n",
            "Saving model (epoch =  138, loss = 0.9832)\n",
            "Saving model (epoch =  142, loss = 0.9830)\n",
            "Saving model (epoch =  144, loss = 0.9830)\n",
            "Saving model (epoch =  146, loss = 0.9792)\n",
            "Saving model (epoch =  150, loss = 0.9718)\n",
            "Saving model (epoch =  151, loss = 0.9703)\n",
            "Saving model (epoch =  156, loss = 0.9694)\n",
            "Saving model (epoch =  157, loss = 0.9643)\n",
            "Saving model (epoch =  163, loss = 0.9636)\n",
            "Saving model (epoch =  165, loss = 0.9609)\n",
            "Saving model (epoch =  166, loss = 0.9574)\n",
            "Saving model (epoch =  167, loss = 0.9569)\n",
            "Saving model (epoch =  168, loss = 0.9561)\n",
            "Saving model (epoch =  177, loss = 0.9560)\n",
            "Saving model (epoch =  180, loss = 0.9483)\n",
            "Saving model (epoch =  182, loss = 0.9443)\n",
            "Saving model (epoch =  185, loss = 0.9442)\n",
            "Saving model (epoch =  186, loss = 0.9437)\n",
            "Saving model (epoch =  187, loss = 0.9404)\n",
            "Saving model (epoch =  191, loss = 0.9375)\n",
            "Saving model (epoch =  192, loss = 0.9367)\n",
            "Saving model (epoch =  193, loss = 0.9358)\n",
            "Saving model (epoch =  199, loss = 0.9322)\n",
            "Saving model (epoch =  203, loss = 0.9298)\n",
            "Saving model (epoch =  204, loss = 0.9296)\n",
            "Saving model (epoch =  206, loss = 0.9291)\n",
            "Saving model (epoch =  208, loss = 0.9263)\n",
            "Saving model (epoch =  211, loss = 0.9260)\n",
            "Saving model (epoch =  212, loss = 0.9251)\n",
            "Saving model (epoch =  213, loss = 0.9231)\n",
            "Saving model (epoch =  216, loss = 0.9201)\n",
            "Saving model (epoch =  218, loss = 0.9185)\n",
            "Saving model (epoch =  221, loss = 0.9170)\n",
            "Saving model (epoch =  223, loss = 0.9169)\n",
            "Saving model (epoch =  224, loss = 0.9161)\n",
            "Saving model (epoch =  228, loss = 0.9123)\n",
            "Saving model (epoch =  231, loss = 0.9102)\n",
            "Saving model (epoch =  242, loss = 0.9050)\n",
            "Saving model (epoch =  244, loss = 0.9050)\n",
            "Saving model (epoch =  245, loss = 0.9031)\n",
            "Saving model (epoch =  247, loss = 0.9008)\n",
            "Saving model (epoch =  252, loss = 0.8986)\n",
            "Saving model (epoch =  255, loss = 0.8978)\n",
            "Saving model (epoch =  260, loss = 0.8965)\n",
            "Saving model (epoch =  261, loss = 0.8932)\n",
            "Saving model (epoch =  263, loss = 0.8918)\n",
            "Saving model (epoch =  273, loss = 0.8913)\n",
            "Saving model (epoch =  275, loss = 0.8862)\n",
            "Saving model (epoch =  282, loss = 0.8855)\n",
            "Saving model (epoch =  288, loss = 0.8816)\n",
            "Saving model (epoch =  290, loss = 0.8787)\n",
            "Saving model (epoch =  292, loss = 0.8777)\n",
            "Saving model (epoch =  295, loss = 0.8774)\n",
            "Saving model (epoch =  296, loss = 0.8753)\n",
            "Saving model (epoch =  307, loss = 0.8700)\n",
            "Saving model (epoch =  319, loss = 0.8680)\n",
            "Saving model (epoch =  320, loss = 0.8651)\n",
            "Saving model (epoch =  322, loss = 0.8651)\n",
            "Saving model (epoch =  325, loss = 0.8638)\n",
            "Saving model (epoch =  327, loss = 0.8627)\n",
            "Saving model (epoch =  336, loss = 0.8604)\n",
            "Saving model (epoch =  346, loss = 0.8562)\n",
            "Saving model (epoch =  350, loss = 0.8560)\n",
            "Saving model (epoch =  351, loss = 0.8556)\n",
            "Saving model (epoch =  353, loss = 0.8538)\n",
            "Saving model (epoch =  359, loss = 0.8523)\n",
            "Saving model (epoch =  362, loss = 0.8511)\n",
            "Saving model (epoch =  370, loss = 0.8502)\n",
            "Saving model (epoch =  372, loss = 0.8498)\n",
            "Saving model (epoch =  373, loss = 0.8476)\n",
            "Saving model (epoch =  380, loss = 0.8456)\n",
            "Saving model (epoch =  383, loss = 0.8454)\n",
            "Saving model (epoch =  385, loss = 0.8452)\n",
            "Saving model (epoch =  392, loss = 0.8428)\n",
            "Saving model (epoch =  406, loss = 0.8397)\n",
            "Saving model (epoch =  411, loss = 0.8391)\n",
            "Saving model (epoch =  415, loss = 0.8375)\n",
            "Saving model (epoch =  424, loss = 0.8354)\n",
            "Saving model (epoch =  425, loss = 0.8354)\n",
            "Saving model (epoch =  428, loss = 0.8350)\n",
            "Saving model (epoch =  433, loss = 0.8338)\n",
            "Saving model (epoch =  434, loss = 0.8330)\n",
            "Saving model (epoch =  436, loss = 0.8330)\n",
            "Saving model (epoch =  443, loss = 0.8316)\n",
            "Saving model (epoch =  451, loss = 0.8303)\n",
            "Saving model (epoch =  463, loss = 0.8292)\n",
            "Saving model (epoch =  465, loss = 0.8292)\n",
            "Saving model (epoch =  467, loss = 0.8288)\n",
            "Saving model (epoch =  471, loss = 0.8278)\n",
            "Saving model (epoch =  474, loss = 0.8273)\n",
            "Saving model (epoch =  475, loss = 0.8272)\n",
            "Saving model (epoch =  482, loss = 0.8266)\n",
            "Saving model (epoch =  492, loss = 0.8244)\n",
            "Saving model (epoch =  499, loss = 0.8238)\n",
            "Saving model (epoch =  500, loss = 0.8235)\n",
            "Saving model (epoch =  502, loss = 0.8234)\n",
            "Saving model (epoch =  507, loss = 0.8233)\n",
            "Saving model (epoch =  511, loss = 0.8229)\n",
            "Saving model (epoch =  515, loss = 0.8222)\n",
            "Saving model (epoch =  522, loss = 0.8215)\n",
            "Saving model (epoch =  523, loss = 0.8203)\n",
            "Saving model (epoch =  534, loss = 0.8200)\n",
            "Saving model (epoch =  547, loss = 0.8191)\n",
            "Saving model (epoch =  550, loss = 0.8188)\n",
            "Saving model (epoch =  558, loss = 0.8185)\n",
            "Saving model (epoch =  561, loss = 0.8183)\n",
            "Saving model (epoch =  569, loss = 0.8175)\n",
            "Saving model (epoch =  574, loss = 0.8167)\n",
            "Saving model (epoch =  576, loss = 0.8144)\n",
            "Saving model (epoch =  578, loss = 0.8129)\n",
            "Saving model (epoch =  581, loss = 0.8122)\n",
            "Saving model (epoch =  585, loss = 0.8090)\n",
            "Saving model (epoch =  586, loss = 0.8071)\n",
            "Saving model (epoch =  590, loss = 0.8062)\n",
            "Saving model (epoch =  592, loss = 0.8038)\n",
            "Saving model (epoch =  594, loss = 0.8035)\n",
            "Saving model (epoch =  604, loss = 0.8028)\n",
            "Saving model (epoch =  612, loss = 0.8022)\n",
            "Saving model (epoch =  618, loss = 0.8015)\n",
            "Saving model (epoch =  630, loss = 0.8006)\n",
            "Saving model (epoch =  655, loss = 0.7997)\n",
            "Saving model (epoch =  659, loss = 0.7991)\n",
            "Saving model (epoch =  661, loss = 0.7990)\n",
            "Saving model (epoch =  662, loss = 0.7987)\n",
            "Saving model (epoch =  663, loss = 0.7982)\n",
            "Saving model (epoch =  695, loss = 0.7976)\n",
            "Saving model (epoch =  696, loss = 0.7968)\n",
            "Saving model (epoch =  706, loss = 0.7962)\n",
            "Saving model (epoch =  718, loss = 0.7961)\n",
            "Saving model (epoch =  723, loss = 0.7961)\n",
            "Saving model (epoch =  726, loss = 0.7956)\n",
            "Saving model (epoch =  729, loss = 0.7956)\n",
            "Saving model (epoch =  749, loss = 0.7944)\n",
            "Saving model (epoch =  750, loss = 0.7942)\n",
            "Saving model (epoch =  775, loss = 0.7937)\n",
            "Saving model (epoch =  804, loss = 0.7934)\n",
            "Saving model (epoch =  813, loss = 0.7931)\n",
            "Saving model (epoch =  831, loss = 0.7926)\n",
            "Saving model (epoch =  902, loss = 0.7925)\n",
            "Saving model (epoch =  908, loss = 0.7924)\n",
            "Saving model (epoch =  919, loss = 0.7922)\n",
            "Saving model (epoch =  935, loss = 0.7919)\n",
            "Saving model (epoch =  938, loss = 0.7918)\n",
            "Saving model (epoch =  986, loss = 0.7918)\n",
            "Saving model (epoch = 1001, loss = 0.7912)\n",
            "Saving model (epoch = 1011, loss = 0.7909)\n",
            "Saving model (epoch = 1074, loss = 0.7908)\n",
            "Saving model (epoch = 1092, loss = 0.7904)\n",
            "Saving model (epoch = 1137, loss = 0.7901)\n",
            "Saving model (epoch = 1192, loss = 0.7901)\n",
            "Saving model (epoch = 1202, loss = 0.7895)\n",
            "Saving model (epoch = 1303, loss = 0.7893)\n",
            "Saving model (epoch = 1362, loss = 0.7889)\n",
            "Saving model (epoch = 1433, loss = 0.7887)\n",
            "Saving model (epoch = 1481, loss = 0.7883)\n",
            "Saving model (epoch = 1610, loss = 0.7882)\n",
            "Saving model (epoch = 1744, loss = 0.7882)\n",
            "Saving model (epoch = 1796, loss = 0.7881)\n",
            "Saving model (epoch = 1811, loss = 0.7880)\n",
            "Saving model (epoch = 1814, loss = 0.7876)\n",
            "Saving model (epoch = 1917, loss = 0.7875)\n",
            "Saving model (epoch = 1931, loss = 0.7871)\n",
            "Saving model (epoch = 1986, loss = 0.7868)\n",
            "Saving model (epoch = 2172, loss = 0.7863)\n",
            "Saving model (epoch = 2536, loss = 0.7862)\n",
            "Saving model (epoch = 2660, loss = 0.7862)\n",
            "Saving model (epoch = 2758, loss = 0.7857)\n",
            "Saving model (epoch = 3196, loss = 0.7857)\n",
            "Saving model (epoch = 3259, loss = 0.7853)\n",
            "Saving model (epoch = 3504, loss = 0.7851)\n",
            "Saving model (epoch = 3750, loss = 0.7849)\n",
            "Saving model (epoch = 3788, loss = 0.7847)\n",
            "Saving model (epoch = 4344, loss = 0.7845)\n",
            "Saving model (epoch = 4430, loss = 0.7844)\n",
            "Saving model (epoch = 4565, loss = 0.7842)\n",
            "Saving model (epoch = 4621, loss = 0.7838)\n",
            "Saving model (epoch = 5064, loss = 0.7837)\n",
            "Saving model (epoch = 5348, loss = 0.7835)\n",
            "Finished training after 6349 epochs\n"
          ],
          "name": "stdout"
        }
      ]
    },
    {
      "cell_type": "code",
      "metadata": {
        "id": "hsNO9nnXQBvP",
        "colab": {
          "base_uri": "https://localhost:8080/",
          "height": 294
        },
        "outputId": "cec465f5-a695-4a40-e3ee-5751a61fe0d5"
      },
      "source": [
        "plot_learning_curve(model_loss_record, title='deep model')"
      ],
      "execution_count": null,
      "outputs": [
        {
          "output_type": "display_data",
          "data": {
            "image/png": "[encoded data removed]",
            "text/plain": [
              "<Figure size 432x288 with 1 Axes>"
            ]
          },
          "metadata": {
            "tags": [],
            "needs_background": "light"
          }
        }
      ]
    },
    {
      "cell_type": "code",
      "metadata": {
        "id": "3iZTVn5WQFpX",
        "colab": {
          "base_uri": "https://localhost:8080/",
          "height": 349
        },
        "outputId": "f9b4a9ce-a8a7-4e19-c0e4-8b06b05b6666"
      },
      "source": [
        "del model\n",
        "model = NeuralNet(tr_set.dataset.dim).to(device)\n",
        "ckpt = torch.load(config['save_path'], map_location='cpu')  # Load your best model\n",
        "model.load_state_dict(ckpt)\n",
        "plot_pred(dv_set, model, device)  # Show prediction on the validation set"
      ],
      "execution_count": null,
      "outputs": [
        {
          "output_type": "display_data",
          "data": {
            "image/png": "[encoded data removed]",
            "text/plain": [
              "<Figure size 360x360 with 1 Axes>"
            ]
          },
          "metadata": {
            "tags": [],
            "needs_background": "light"
          }
        }
      ]
    },
    {
      "cell_type": "markdown",
      "metadata": {
        "id": "aQikz3IPiyPf"
      },
      "source": [
        "# **Testing**\n",
        "The predictions of your model on testing set will be stored at `pred.csv`."
      ]
    },
    {
      "cell_type": "code",
      "metadata": {
        "id": "O8cTuQjQQOon",
        "colab": {
          "base_uri": "https://localhost:8080/"
        },
        "outputId": "c133c959-4f67-4b5e-cdfa-c23fafc92f68"
      },
      "source": [
        "def save_pred(preds, file):\n",
        "    ''' Save predictions to specified file '''\n",
        "    print('Saving results to {}'.format(file))\n",
        "    with open(file, 'w') as fp:\n",
        "        writer = csv.writer(fp)\n",
        "        writer.writerow(['id', 'tested_positive'])\n",
        "        for i, p in enumerate(preds):\n",
        "            writer.writerow([i, p])\n",
        "\n",
        "preds = test(tt_set, model, device)  # predict COVID-19 cases with your model\n",
        "save_pred(preds, 'pred.csv')         # save prediction file to pred.csv"
      ],
      "execution_count": null,
      "outputs": [
        {
          "output_type": "stream",
          "text": [
            "Saving results to pred.csv\n"
          ],
          "name": "stdout"
        }
      ]
    },
    {
      "cell_type": "markdown",
      "metadata": {
        "id": "nfrVxqJanGpE"
      },
      "source": [
        "# **Hints**\n",
        "\n",
        "## **Simple Baseline**\n",
        "* Run sample code\n",
        "\n",
        "## **Medium Baseline**\n",
        "* Feature selection: 40 states + 2 `tested_positive` (`TODO` in dataset)\n",
        "\n",
        "## **Strong Baseline**\n",
        "* Feature selection (what other features are useful?)\n",
        "* DNN architecture (layers? dimension? activation function?)\n",
        "* Training (mini-batch? optimizer? learning rate?)\n",
        "* L2 regularization\n",
        "* There are some mistakes in the sample code, can you find them?"
      ]
    },
    {
      "cell_type": "markdown",
      "metadata": {
        "id": "9tmCwXgpot3t"
      },
      "source": [
        "# **Reference**\n",
        "This code is completely written by Heng-Jui Chang @ NTUEE.  \n",
        "Copying or reusing this code is required to specify the original author. \n",
        "\n",
        "E.g.  \n",
        "Source: Heng-Jui Chang @ NTUEE (https://github.com/ga642381/ML2021-Spring/blob/main/HW01/HW01.ipynb)\n"
      ]
    }
  ]
}